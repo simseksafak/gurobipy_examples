{
 "cells": [
  {
   "cell_type": "markdown",
   "id": "44ef5100",
   "metadata": {},
   "source": [
    "This problem is from Model Building in Mathematical Programming by H.Paul Williams(5th Edition Page266)\n",
    "\n",
    "A quantity y is known to depend on another quantity x. A set of corresponding\n",
    "values has been collected for x and y and is presented in Table below.\n",
    "1. Fit the ‘best’ straight line y = bx + a to this set of data points. The objective is to minimise the sum of absolute deviations of each observed value\n",
    "of y from the value predicted by the linear relationship.\n",
    "2. Fit the ‘best’ straight line where the objective is to minimise the maximum\n",
    "deviation of all the observed values of y from the value predicted by the\n",
    "linear relationship.\n",
    "3.  Fit the ‘best’ quadratic curve y = cx 2 + bx + a to this set of data points\n",
    "using the same objectives as in (1) and (2).\n",
    "\n",
    "\n",
    "|   |   |   |   |   |   |   |   |   |   |   |   |   |   |   |   |   |   |   |   |\n",
    "|---|---|---|---|---|---|---|---|---|---|---|---|---|---|---|---|---|---|---|---|\n",
    "**x**|  0.0| 0.5| 1.0| 1.5| 1.9| 2.5| 3.0| 3.5| 4.0| 4.5| 5.0| 5.5| 6.0| 6.6| 7.0| 7.6| 8.5| 9.0| 10.0|\n",
    "**y**| 1.0| 0.9| 0.7| 1.5| 2.0| 2.4| 3.2| 2.0| 2.7| 3.5| 1.0| 4.0| 3.6| 2.7| 5.7| 4.6| 6.0| 6.8| 7.3|\n",
    "\n",
    "\n",
    "\n"
   ]
  },
  {
   "cell_type": "markdown",
   "id": "3e0981ad",
   "metadata": {},
   "source": [
    "For problem 1, Objective function is minimize ∑(ui) +∑(vi) \n",
    "                                     subject to b*xi + a + ui − vi = yi \n",
    "                                                i = 1,2,3,...,19\n",
    "For problem 2, Objective function is minimize ∑(ui) +∑(vi) \n",
    "                                     subject to b*xi + a + ui − vi = yi\n",
    "                                                z − ui ≥ 0\n",
    "                                                z − vi ≥ 0\n",
    "                                                i = 1,2,3,...,19"
   ]
  },
  {
   "cell_type": "code",
   "execution_count": 1,
   "id": "54ee7351",
   "metadata": {},
   "outputs": [],
   "source": [
    "import pandas as pd \n",
    "import gurobipy as gp\n",
    "from gurobipy import GRB\n",
    "import matplotlib.pyplot as plt\n",
    "import numpy as np\n",
    "\n",
    "%matplotlib inline"
   ]
  },
  {
   "cell_type": "code",
   "execution_count": 2,
   "id": "3469a4b5",
   "metadata": {},
   "outputs": [],
   "source": [
    "# Data from table in problem definition\n",
    "obs, x, y = gp.multidict({\n",
    "    ('1'): [0,1],\n",
    "    ('2'): [0.5,0.9],\n",
    "    ('3'): [1,0.7],\n",
    "    ('4'): [1.5,1.5],\n",
    "    ('5'): [1.9,2],\n",
    "    ('6'): [2.5,2.4],\n",
    "    ('7'): [3,3.2],\n",
    "    ('8'): [3.5,2],\n",
    "    ('9'): [4,2.7],\n",
    "    ('10'): [4.5,3.5],\n",
    "    ('11'): [5,1],\n",
    "    ('12'): [5.5,4],\n",
    "    ('13'): [6,3.6],\n",
    "    ('14'): [6.6,2.7],\n",
    "    ('15'): [7,5.7],\n",
    "    ('16'): [7.6,4.6],\n",
    "    ('17'): [8.5,6],\n",
    "    ('18'): [9,6.8],\n",
    "    ('19'): [10,7.3]\n",
    "})"
   ]
  },
  {
   "cell_type": "markdown",
   "id": "43d52a27",
   "metadata": {},
   "source": [
    "## Straight Line"
   ]
  },
  {
   "cell_type": "markdown",
   "id": "6f367ef9",
   "metadata": {},
   "source": [
    "### Model"
   ]
  },
  {
   "cell_type": "code",
   "execution_count": 3,
   "id": "75147c0f",
   "metadata": {},
   "outputs": [
    {
     "name": "stdout",
     "output_type": "stream",
     "text": [
      "Set parameter Username\n"
     ]
    }
   ],
   "source": [
    "model = gp.Model('CurveFitting')"
   ]
  },
  {
   "cell_type": "code",
   "execution_count": 4,
   "id": "f3c8102c",
   "metadata": {},
   "outputs": [],
   "source": [
    "# Variables\n",
    "a = model.addVar(vtype=GRB.CONTINUOUS,lb=-GRB.INFINITY,ub=GRB.INFINITY,name='a')\n",
    "b = model.addVar(vtype=GRB.CONTINUOUS,lb=-GRB.INFINITY,ub=GRB.INFINITY,name='b')\n",
    "u = model.addVars(obs,vtype=GRB.CONTINUOUS,name='u')\n",
    "v = model.addVars(obs,vtype=GRB.CONTINUOUS,name='v')\n",
    "z = model.addVar(vtype=GRB.CONTINUOUS,name='z')"
   ]
  },
  {
   "cell_type": "code",
   "execution_count": 5,
   "id": "f69a8904",
   "metadata": {},
   "outputs": [],
   "source": [
    "# Problem 1 constraint\n",
    "dev = model.addConstrs((b*x[i] + a + u[i] - v[i] == y[i] for i in obs),name='devs')"
   ]
  },
  {
   "cell_type": "code",
   "execution_count": 6,
   "id": "f21bd659",
   "metadata": {},
   "outputs": [],
   "source": [
    "# Objective function\n",
    "model.setObjective(u.sum('*') + v.sum('*'))"
   ]
  },
  {
   "cell_type": "code",
   "execution_count": 7,
   "id": "bb9d1fa2",
   "metadata": {},
   "outputs": [
    {
     "name": "stdout",
     "output_type": "stream",
     "text": [
      "Gurobi Optimizer version 10.0.2 build v10.0.2rc0 (win64)\n",
      "\n",
      "CPU model: Intel(R) Core(TM) i5-10300H CPU @ 2.50GHz, instruction set [SSE2|AVX|AVX2]\n",
      "Thread count: 4 physical cores, 8 logical processors, using up to 8 threads\n",
      "\n",
      "Optimize a model with 19 rows, 41 columns and 75 nonzeros\n",
      "Model fingerprint: 0x0bec2f7b\n",
      "Coefficient statistics:\n",
      "  Matrix range     [5e-01, 1e+01]\n",
      "  Objective range  [1e+00, 1e+00]\n",
      "  Bounds range     [0e+00, 0e+00]\n",
      "  RHS range        [7e-01, 7e+00]\n",
      "Presolve removed 0 rows and 1 columns\n",
      "Presolve time: 0.08s\n",
      "Presolved: 19 rows, 40 columns, 75 nonzeros\n",
      "\n",
      "Iteration    Objective       Primal Inf.    Dual Inf.      Time\n",
      "       0      handle free variables                          0s\n",
      "      20    1.1466250e+01   0.000000e+00   0.000000e+00      0s\n",
      "\n",
      "Solved in 20 iterations and 0.16 seconds (0.00 work units)\n",
      "Optimal objective  1.146625000e+01\n"
     ]
    }
   ],
   "source": [
    "model.optimize()"
   ]
  },
  {
   "cell_type": "code",
   "execution_count": 8,
   "id": "f33341b5",
   "metadata": {},
   "outputs": [
    {
     "name": "stdout",
     "output_type": "stream",
     "text": [
      "Best straight line to minimize sum of absolute deviations is: \n",
      " y = 0.638x + 0.581\n"
     ]
    }
   ],
   "source": [
    "print(f\"Best straight line to minimize sum of absolute deviations is: \\n y = {b.x:.3f}x + {a.x:.3f}\")"
   ]
  },
  {
   "cell_type": "code",
   "execution_count": 24,
   "id": "27e1ff64",
   "metadata": {},
   "outputs": [
    {
     "data": {
      "image/png": "[encoded data removed]",
      "text/plain": [
       "<Figure size 432x288 with 1 Axes>"
      ]
     },
     "metadata": {
      "needs_background": "light"
     },
     "output_type": "display_data"
    }
   ],
   "source": [
    "a_x = a.x\n",
    "b_x = b.x\n",
    "\n",
    "x_values = x.values()\n",
    "y_values = y.values()\n",
    "\n",
    "x_line = np.linspace(min(x_values), max(x_values), 100)\n",
    "y_line = b_x * x_line + a_x\n",
    "\n",
    "plt.plot(x_line, y_line, label=f'y = {b_x:.3f} * x + {a_x:.3f}')\n",
    "plt.scatter(x_values, y_values, color='red', label='Data Points')\n",
    "plt.xlabel('X')\n",
    "plt.ylabel('Y')\n",
    "plt.title('Dataset and the Line')\n",
    "plt.legend()\n",
    "plt.show()"
   ]
  },
  {
   "cell_type": "markdown",
   "id": "dfbab385",
   "metadata": {},
   "source": [
    "##### For Problem 2 we add the max deviation constraints to the existing constraints"
   ]
  },
  {
   "cell_type": "code",
   "execution_count": 10,
   "id": "92862cef",
   "metadata": {},
   "outputs": [],
   "source": [
    "positive_dev = model.addConstrs((z >= u[i] for i in obs),name='positive_dev')\n",
    "negative_dev = model.addConstrs((z >= v[i] for i in obs),name='negative_dev')"
   ]
  },
  {
   "cell_type": "code",
   "execution_count": 11,
   "id": "5874af5f",
   "metadata": {},
   "outputs": [],
   "source": [
    "# New objective is to minimeze deviation(z)\n",
    "model.setObjective(z)"
   ]
  },
  {
   "cell_type": "code",
   "execution_count": 12,
   "id": "228cad47",
   "metadata": {},
   "outputs": [
    {
     "name": "stdout",
     "output_type": "stream",
     "text": [
      "Gurobi Optimizer version 10.0.2 build v10.0.2rc0 (win64)\n",
      "\n",
      "CPU model: Intel(R) Core(TM) i5-10300H CPU @ 2.50GHz, instruction set [SSE2|AVX|AVX2]\n",
      "Thread count: 4 physical cores, 8 logical processors, using up to 8 threads\n",
      "\n",
      "Optimize a model with 57 rows, 41 columns and 151 nonzeros\n",
      "Coefficient statistics:\n",
      "  Matrix range     [5e-01, 1e+01]\n",
      "  Objective range  [1e+00, 1e+00]\n",
      "  Bounds range     [0e+00, 0e+00]\n",
      "  RHS range        [7e-01, 7e+00]\n",
      "Iteration    Objective       Primal Inf.    Dual Inf.      Time\n",
      "       0    0.0000000e+00   1.146625e+01   0.000000e+00      0s\n",
      "      11    1.7250000e+00   0.000000e+00   0.000000e+00      0s\n",
      "\n",
      "Solved in 11 iterations and 0.00 seconds (0.00 work units)\n",
      "Optimal objective  1.725000000e+00\n"
     ]
    }
   ],
   "source": [
    "model.optimize()"
   ]
  },
  {
   "cell_type": "code",
   "execution_count": 65,
   "id": "300a348b",
   "metadata": {},
   "outputs": [
    {
     "name": "stdout",
     "output_type": "stream",
     "text": [
      "Best straight line to minimize the maximum deviation is: \n",
      " y = 0.625x + (-0.400)\n"
     ]
    }
   ],
   "source": [
    "print(f\"Best straight line to minimize the maximum deviation is: \\n y = {b.x:.3f}x + ({a.x:.3f})\")"
   ]
  },
  {
   "cell_type": "code",
   "execution_count": 25,
   "id": "b22f3317",
   "metadata": {},
   "outputs": [
    {
     "data": {
      "image/png": "[encoded data removed]",
      "text/plain": [
       "<Figure size 432x288 with 1 Axes>"
      ]
     },
     "metadata": {
      "needs_background": "light"
     },
     "output_type": "display_data"
    }
   ],
   "source": [
    "a_x = a.x\n",
    "b_x = b.x\n",
    "\n",
    "x_values = x.values()\n",
    "y_values = y.values()\n",
    "\n",
    "x_line = np.linspace(min(x_values), max(x_values), 100)\n",
    "y_line = b_x * x_line + a_x\n",
    "\n",
    "plt.plot(x_line, y_line, label=f'y = {b_x:.3f} * x + {a_x:.3f}')\n",
    "plt.scatter(x_values, y_values, color='red', label='Data Points')\n",
    "plt.xlabel('X')\n",
    "plt.ylabel('Y')\n",
    "plt.title('Dataset and the Line')\n",
    "plt.legend()\n",
    "plt.show()"
   ]
  },
  {
   "cell_type": "markdown",
   "id": "2d68bc97",
   "metadata": {},
   "source": [
    "## Quadratic Line"
   ]
  },
  {
   "cell_type": "markdown",
   "id": "240163ab",
   "metadata": {},
   "source": [
    "#### Min sum of absolute deviations"
   ]
  },
  {
   "cell_type": "code",
   "execution_count": 14,
   "id": "912c5062",
   "metadata": {},
   "outputs": [],
   "source": [
    "m_quad = gp.Model('Quad1')"
   ]
  },
  {
   "cell_type": "code",
   "execution_count": 16,
   "id": "8f770be4",
   "metadata": {},
   "outputs": [],
   "source": [
    "# Variables \n",
    "a_q = m_quad.addVar(lb=-GRB.INFINITY,ub=GRB.INFINITY,name='a')\n",
    "b_q = m_quad.addVar(lb=-GRB.INFINITY,ub=GRB.INFINITY,name='b')\n",
    "c_q = m_quad.addVar(lb=-GRB.INFINITY,ub=GRB.INFINITY,name='c')\n",
    "u_q = m_quad.addVars(obs,name='u')\n",
    "v_q = m_quad.addVars(obs,name='v')"
   ]
  },
  {
   "cell_type": "code",
   "execution_count": 18,
   "id": "db0c2292",
   "metadata": {},
   "outputs": [],
   "source": [
    "# Constraint\n",
    "dev_q = m_quad.addConstrs((c_q*x[i]**2 + b_q*x[i] + a_q + u_q[i] - v_q[i] == y[i] for i in obs),name='devs')\n",
    "# Objective Function\n",
    "m_quad.setObjective((gp.quicksum(u_q[i] + v_q[i] for i in obs)),GRB.MINIMIZE)"
   ]
  },
  {
   "cell_type": "code",
   "execution_count": 19,
   "id": "005629c8",
   "metadata": {},
   "outputs": [
    {
     "name": "stdout",
     "output_type": "stream",
     "text": [
      "Gurobi Optimizer version 10.0.2 build v10.0.2rc0 (win64)\n",
      "\n",
      "CPU model: Intel(R) Core(TM) i5-10300H CPU @ 2.50GHz, instruction set [SSE2|AVX|AVX2]\n",
      "Thread count: 4 physical cores, 8 logical processors, using up to 8 threads\n",
      "\n",
      "Optimize a model with 19 rows, 42 columns and 93 nonzeros\n",
      "Model fingerprint: 0x18367ac1\n",
      "Coefficient statistics:\n",
      "  Matrix range     [3e-01, 1e+02]\n",
      "  Objective range  [1e+00, 1e+00]\n",
      "  Bounds range     [0e+00, 0e+00]\n",
      "  RHS range        [7e-01, 7e+00]\n",
      "Presolve removed 0 rows and 1 columns\n",
      "Presolve time: 0.00s\n",
      "Presolved: 19 rows, 41 columns, 93 nonzeros\n",
      "\n",
      "Iteration    Objective       Primal Inf.    Dual Inf.      Time\n",
      "       0      handle free variables                          0s\n",
      "      19    1.0458965e+01   0.000000e+00   0.000000e+00      0s\n",
      "\n",
      "Solved in 19 iterations and 0.01 seconds (0.00 work units)\n",
      "Optimal objective  1.045896471e+01\n"
     ]
    }
   ],
   "source": [
    "m_quad.optimize()"
   ]
  },
  {
   "cell_type": "code",
   "execution_count": 34,
   "id": "8e0c0d5c",
   "metadata": {},
   "outputs": [
    {
     "name": "stdout",
     "output_type": "stream",
     "text": [
      "Best quadratic line to minimize sum of absolute deviations is: \n",
      " y =0.034 * x^2 + 0.295 * x + 0.982\n"
     ]
    }
   ],
   "source": [
    "print(f\"Best quadratic line to minimize sum of absolute deviations is: \\n y ={c_q.x:.3f} * x^2 + {b_q.x:.3f} * x + {a_q.x:.3f}\")"
   ]
  },
  {
   "cell_type": "code",
   "execution_count": 23,
   "id": "3b97d8ae",
   "metadata": {},
   "outputs": [
    {
     "data": {
      "image/png": "[encoded data removed]",
      "text/plain": [
       "<Figure size 432x288 with 1 Axes>"
      ]
     },
     "metadata": {
      "needs_background": "light"
     },
     "output_type": "display_data"
    }
   ],
   "source": [
    "a_x = a_q.x\n",
    "b_x = b_q.x\n",
    "c_x = c_q.x\n",
    "\n",
    "x_values = x.values()\n",
    "y_values = y.values()\n",
    "\n",
    "x_line = np.linspace(min(x_values), max(x_values), 100)\n",
    "y_line = c_x*(x_line**2) + b_x * x_line + a_x\n",
    "\n",
    "plt.plot(x_line, y_line, label=f'y ={c_x:.3f} * x^2 + {b_x:.3f} * x + {a_x:.3f}')\n",
    "plt.scatter(x_values, y_values, color='red', label='Data Points')\n",
    "plt.xlabel('X')\n",
    "plt.ylabel('Y')\n",
    "plt.title('Dataset and the Line')\n",
    "plt.legend()\n",
    "plt.show()"
   ]
  },
  {
   "cell_type": "markdown",
   "id": "faca2bd0",
   "metadata": {},
   "source": [
    "#### Min the maximum deviation"
   ]
  },
  {
   "cell_type": "code",
   "execution_count": 30,
   "id": "8835bb47",
   "metadata": {},
   "outputs": [],
   "source": [
    "m_quad2 = gp.Model('Quad2')"
   ]
  },
  {
   "cell_type": "code",
   "execution_count": 31,
   "id": "40c30b33",
   "metadata": {},
   "outputs": [],
   "source": [
    "# Variables\n",
    "a_q2 = m_quad2.addVar(lb=-GRB.INFINITY,ub=GRB.INFINITY,name='a')\n",
    "b_q2 = m_quad2.addVar(lb=-GRB.INFINITY,ub=GRB.INFINITY,name='b')\n",
    "c_q2 = m_quad2.addVar(lb=-GRB.INFINITY,ub=GRB.INFINITY,name='c')\n",
    "u_q2 = m_quad2.addVars(obs,name='u')\n",
    "v_q2 = m_quad2.addVars(obs,name='v')\n",
    "z_q2 = m_quad2.addVar(name='z')"
   ]
  },
  {
   "cell_type": "code",
   "execution_count": 32,
   "id": "725054f0",
   "metadata": {},
   "outputs": [],
   "source": [
    "# Constraints\n",
    "dev_q2 = m_quad2.addConstrs((c_q2*x[i]**2 + b_q2*x[i] + a_q2 + u_q2[i] - v_q2[i] == y[i] for i in obs),name='devs')\n",
    "positive_devq = m_quad2.addConstrs((z_q2 >= u_q2[i] for i in obs),name='positive_devq')\n",
    "negative_devq = m_quad2.addConstrs((z_q2 >= v_q2[i] for i in obs),name='negative_devq')\n",
    "\n",
    "# Objective Function\n",
    "m_quad2.setObjective(z_q2,GRB.MINIMIZE)"
   ]
  },
  {
   "cell_type": "code",
   "execution_count": 33,
   "id": "02a71be8",
   "metadata": {},
   "outputs": [
    {
     "name": "stdout",
     "output_type": "stream",
     "text": [
      "Gurobi Optimizer version 10.0.2 build v10.0.2rc0 (win64)\n",
      "\n",
      "CPU model: Intel(R) Core(TM) i5-10300H CPU @ 2.50GHz, instruction set [SSE2|AVX|AVX2]\n",
      "Thread count: 4 physical cores, 8 logical processors, using up to 8 threads\n",
      "\n",
      "Optimize a model with 57 rows, 42 columns and 169 nonzeros\n",
      "Model fingerprint: 0xb52156df\n",
      "Coefficient statistics:\n",
      "  Matrix range     [3e-01, 1e+02]\n",
      "  Objective range  [1e+00, 1e+00]\n",
      "  Bounds range     [0e+00, 0e+00]\n",
      "  RHS range        [7e-01, 7e+00]\n",
      "Presolve time: 0.31s\n",
      "Presolved: 57 rows, 42 columns, 169 nonzeros\n",
      "\n",
      "Iteration    Objective       Primal Inf.    Dual Inf.      Time\n",
      "       0      handle free variables                          0s\n",
      "      16    1.4750000e+00   0.000000e+00   0.000000e+00      0s\n",
      "\n",
      "Solved in 16 iterations and 0.31 seconds (0.00 work units)\n",
      "Optimal objective  1.475000000e+00\n"
     ]
    }
   ],
   "source": [
    "m_quad2.optimize()"
   ]
  },
  {
   "cell_type": "code",
   "execution_count": 35,
   "id": "a8bf234b",
   "metadata": {},
   "outputs": [
    {
     "name": "stdout",
     "output_type": "stream",
     "text": [
      "Best quadratic line to minimize maximum deviation is: \n",
      " y =0.125 * x^2 + -0.625 * x + 2.475\n"
     ]
    }
   ],
   "source": [
    "print(f\"Best quadratic line to minimize maximum deviation is: \\n y ={c_q2.x:.3f} * x^2 + {b_q2.x:.3f} * x + {a_q2.x:.3f}\")"
   ]
  },
  {
   "cell_type": "code",
   "execution_count": 36,
   "id": "3f9e6c98",
   "metadata": {},
   "outputs": [
    {
     "data": {
      "image/png": "[encoded data removed]",
      "text/plain": [
       "<Figure size 432x288 with 1 Axes>"
      ]
     },
     "metadata": {
      "needs_background": "light"
     },
     "output_type": "display_data"
    }
   ],
   "source": [
    "a_x = a_q2.x\n",
    "b_x = b_q2.x\n",
    "c_x = c_q2.x\n",
    "\n",
    "x_values = x.values()\n",
    "y_values = y.values()\n",
    "\n",
    "x_line = np.linspace(min(x_values), max(x_values), 100)\n",
    "y_line = c_x*(x_line**2) + b_x * x_line + a_x\n",
    "\n",
    "plt.plot(x_line, y_line, label=f'y ={c_x:.3f} * x^2 + {b_x:.3f} * x + {a_x:.3f}')\n",
    "plt.scatter(x_values, y_values, color='red', label='Data Points')\n",
    "plt.xlabel('X')\n",
    "plt.ylabel('Y')\n",
    "plt.title('Dataset and the Line')\n",
    "plt.legend()\n",
    "plt.show()"
   ]
  },
  {
   "cell_type": "code",
   "execution_count": null,
   "id": "b054ba0a",
   "metadata": {},
   "outputs": [],
   "source": []
  }
 ],
 "metadata": {
  "kernelspec": {
   "display_name": "Python 3 (ipykernel)",
   "language": "python",
   "name": "python3"
  },
  "language_info": {
   "codemirror_mode": {
    "name": "ipython",
    "version": 3
   },
   "file_extension": ".py",
   "mimetype": "text/x-python",
   "name": "python",
   "nbconvert_exporter": "python",
   "pygments_lexer": "ipython3",
   "version": "3.9.12"
  }
 },
 "nbformat": 4,
 "nbformat_minor": 5
}
